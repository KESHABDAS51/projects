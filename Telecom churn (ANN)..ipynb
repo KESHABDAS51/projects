{
 "cells": [
  {
   "cell_type": "code",
   "execution_count": 60,
   "id": "2d8c3b96",
   "metadata": {},
   "outputs": [],
   "source": [
    "import pandas as pd\n",
    "import numpy as np\n",
    "import matplotlib.pyplot as plt"
   ]
  },
  {
   "cell_type": "code",
   "execution_count": 61,
   "id": "e2ffc092",
   "metadata": {},
   "outputs": [],
   "source": [
    "df=pd.read_csv('Churn_Modelling.csv')"
   ]
  },
  {
   "cell_type": "code",
   "execution_count": 62,
   "id": "db99b64d",
   "metadata": {},
   "outputs": [
    {
     "data": {
      "text/html": [
       "<div>\n",
       "<style scoped>\n",
       "    .dataframe tbody tr th:only-of-type {\n",
       "        vertical-align: middle;\n",
       "    }\n",
       "\n",
       "    .dataframe tbody tr th {\n",
       "        vertical-align: top;\n",
       "    }\n",
       "\n",
       "    .dataframe thead th {\n",
       "        text-align: right;\n",
       "    }\n",
       "</style>\n",
       "<table border=\"1\" class=\"dataframe\">\n",
       "  <thead>\n",
       "    <tr style=\"text-align: right;\">\n",
       "      <th></th>\n",
       "      <th>RowNumber</th>\n",
       "      <th>CustomerId</th>\n",
       "      <th>Surname</th>\n",
       "      <th>CreditScore</th>\n",
       "      <th>Geography</th>\n",
       "      <th>Gender</th>\n",
       "      <th>Age</th>\n",
       "      <th>Tenure</th>\n",
       "      <th>Balance</th>\n",
       "      <th>NumOfProducts</th>\n",
       "      <th>HasCrCard</th>\n",
       "      <th>IsActiveMember</th>\n",
       "      <th>EstimatedSalary</th>\n",
       "      <th>Exited</th>\n",
       "    </tr>\n",
       "  </thead>\n",
       "  <tbody>\n",
       "    <tr>\n",
       "      <th>0</th>\n",
       "      <td>1</td>\n",
       "      <td>15634602</td>\n",
       "      <td>Hargrave</td>\n",
       "      <td>619</td>\n",
       "      <td>France</td>\n",
       "      <td>Female</td>\n",
       "      <td>42</td>\n",
       "      <td>2</td>\n",
       "      <td>0.00</td>\n",
       "      <td>1</td>\n",
       "      <td>1</td>\n",
       "      <td>1</td>\n",
       "      <td>101348.88</td>\n",
       "      <td>1</td>\n",
       "    </tr>\n",
       "    <tr>\n",
       "      <th>1</th>\n",
       "      <td>2</td>\n",
       "      <td>15647311</td>\n",
       "      <td>Hill</td>\n",
       "      <td>608</td>\n",
       "      <td>Spain</td>\n",
       "      <td>Female</td>\n",
       "      <td>41</td>\n",
       "      <td>1</td>\n",
       "      <td>83807.86</td>\n",
       "      <td>1</td>\n",
       "      <td>0</td>\n",
       "      <td>1</td>\n",
       "      <td>112542.58</td>\n",
       "      <td>0</td>\n",
       "    </tr>\n",
       "    <tr>\n",
       "      <th>2</th>\n",
       "      <td>3</td>\n",
       "      <td>15619304</td>\n",
       "      <td>Onio</td>\n",
       "      <td>502</td>\n",
       "      <td>France</td>\n",
       "      <td>Female</td>\n",
       "      <td>42</td>\n",
       "      <td>8</td>\n",
       "      <td>159660.80</td>\n",
       "      <td>3</td>\n",
       "      <td>1</td>\n",
       "      <td>0</td>\n",
       "      <td>113931.57</td>\n",
       "      <td>1</td>\n",
       "    </tr>\n",
       "    <tr>\n",
       "      <th>3</th>\n",
       "      <td>4</td>\n",
       "      <td>15701354</td>\n",
       "      <td>Boni</td>\n",
       "      <td>699</td>\n",
       "      <td>France</td>\n",
       "      <td>Female</td>\n",
       "      <td>39</td>\n",
       "      <td>1</td>\n",
       "      <td>0.00</td>\n",
       "      <td>2</td>\n",
       "      <td>0</td>\n",
       "      <td>0</td>\n",
       "      <td>93826.63</td>\n",
       "      <td>0</td>\n",
       "    </tr>\n",
       "    <tr>\n",
       "      <th>4</th>\n",
       "      <td>5</td>\n",
       "      <td>15737888</td>\n",
       "      <td>Mitchell</td>\n",
       "      <td>850</td>\n",
       "      <td>Spain</td>\n",
       "      <td>Female</td>\n",
       "      <td>43</td>\n",
       "      <td>2</td>\n",
       "      <td>125510.82</td>\n",
       "      <td>1</td>\n",
       "      <td>1</td>\n",
       "      <td>1</td>\n",
       "      <td>79084.10</td>\n",
       "      <td>0</td>\n",
       "    </tr>\n",
       "  </tbody>\n",
       "</table>\n",
       "</div>"
      ],
      "text/plain": [
       "   RowNumber  CustomerId   Surname  CreditScore Geography  Gender  Age  \\\n",
       "0          1    15634602  Hargrave          619    France  Female   42   \n",
       "1          2    15647311      Hill          608     Spain  Female   41   \n",
       "2          3    15619304      Onio          502    France  Female   42   \n",
       "3          4    15701354      Boni          699    France  Female   39   \n",
       "4          5    15737888  Mitchell          850     Spain  Female   43   \n",
       "\n",
       "   Tenure    Balance  NumOfProducts  HasCrCard  IsActiveMember  \\\n",
       "0       2       0.00              1          1               1   \n",
       "1       1   83807.86              1          0               1   \n",
       "2       8  159660.80              3          1               0   \n",
       "3       1       0.00              2          0               0   \n",
       "4       2  125510.82              1          1               1   \n",
       "\n",
       "   EstimatedSalary  Exited  \n",
       "0        101348.88       1  \n",
       "1        112542.58       0  \n",
       "2        113931.57       1  \n",
       "3         93826.63       0  \n",
       "4         79084.10       0  "
      ]
     },
     "execution_count": 62,
     "metadata": {},
     "output_type": "execute_result"
    }
   ],
   "source": [
    "df.head()"
   ]
  },
  {
   "cell_type": "code",
   "execution_count": 63,
   "id": "77183785",
   "metadata": {},
   "outputs": [],
   "source": [
    "X=df.iloc[:,3:13]\n",
    "Y=df.iloc[:,13]"
   ]
  },
  {
   "cell_type": "code",
   "execution_count": 64,
   "id": "1ba9257a",
   "metadata": {},
   "outputs": [
    {
     "data": {
      "text/html": [
       "<div>\n",
       "<style scoped>\n",
       "    .dataframe tbody tr th:only-of-type {\n",
       "        vertical-align: middle;\n",
       "    }\n",
       "\n",
       "    .dataframe tbody tr th {\n",
       "        vertical-align: top;\n",
       "    }\n",
       "\n",
       "    .dataframe thead th {\n",
       "        text-align: right;\n",
       "    }\n",
       "</style>\n",
       "<table border=\"1\" class=\"dataframe\">\n",
       "  <thead>\n",
       "    <tr style=\"text-align: right;\">\n",
       "      <th></th>\n",
       "      <th>CreditScore</th>\n",
       "      <th>Geography</th>\n",
       "      <th>Gender</th>\n",
       "      <th>Age</th>\n",
       "      <th>Tenure</th>\n",
       "      <th>Balance</th>\n",
       "      <th>NumOfProducts</th>\n",
       "      <th>HasCrCard</th>\n",
       "      <th>IsActiveMember</th>\n",
       "      <th>EstimatedSalary</th>\n",
       "    </tr>\n",
       "  </thead>\n",
       "  <tbody>\n",
       "    <tr>\n",
       "      <th>0</th>\n",
       "      <td>619</td>\n",
       "      <td>France</td>\n",
       "      <td>Female</td>\n",
       "      <td>42</td>\n",
       "      <td>2</td>\n",
       "      <td>0.00</td>\n",
       "      <td>1</td>\n",
       "      <td>1</td>\n",
       "      <td>1</td>\n",
       "      <td>101348.88</td>\n",
       "    </tr>\n",
       "    <tr>\n",
       "      <th>1</th>\n",
       "      <td>608</td>\n",
       "      <td>Spain</td>\n",
       "      <td>Female</td>\n",
       "      <td>41</td>\n",
       "      <td>1</td>\n",
       "      <td>83807.86</td>\n",
       "      <td>1</td>\n",
       "      <td>0</td>\n",
       "      <td>1</td>\n",
       "      <td>112542.58</td>\n",
       "    </tr>\n",
       "    <tr>\n",
       "      <th>2</th>\n",
       "      <td>502</td>\n",
       "      <td>France</td>\n",
       "      <td>Female</td>\n",
       "      <td>42</td>\n",
       "      <td>8</td>\n",
       "      <td>159660.80</td>\n",
       "      <td>3</td>\n",
       "      <td>1</td>\n",
       "      <td>0</td>\n",
       "      <td>113931.57</td>\n",
       "    </tr>\n",
       "    <tr>\n",
       "      <th>3</th>\n",
       "      <td>699</td>\n",
       "      <td>France</td>\n",
       "      <td>Female</td>\n",
       "      <td>39</td>\n",
       "      <td>1</td>\n",
       "      <td>0.00</td>\n",
       "      <td>2</td>\n",
       "      <td>0</td>\n",
       "      <td>0</td>\n",
       "      <td>93826.63</td>\n",
       "    </tr>\n",
       "    <tr>\n",
       "      <th>4</th>\n",
       "      <td>850</td>\n",
       "      <td>Spain</td>\n",
       "      <td>Female</td>\n",
       "      <td>43</td>\n",
       "      <td>2</td>\n",
       "      <td>125510.82</td>\n",
       "      <td>1</td>\n",
       "      <td>1</td>\n",
       "      <td>1</td>\n",
       "      <td>79084.10</td>\n",
       "    </tr>\n",
       "  </tbody>\n",
       "</table>\n",
       "</div>"
      ],
      "text/plain": [
       "   CreditScore Geography  Gender  Age  Tenure    Balance  NumOfProducts  \\\n",
       "0          619    France  Female   42       2       0.00              1   \n",
       "1          608     Spain  Female   41       1   83807.86              1   \n",
       "2          502    France  Female   42       8  159660.80              3   \n",
       "3          699    France  Female   39       1       0.00              2   \n",
       "4          850     Spain  Female   43       2  125510.82              1   \n",
       "\n",
       "   HasCrCard  IsActiveMember  EstimatedSalary  \n",
       "0          1               1        101348.88  \n",
       "1          0               1        112542.58  \n",
       "2          1               0        113931.57  \n",
       "3          0               0         93826.63  \n",
       "4          1               1         79084.10  "
      ]
     },
     "execution_count": 64,
     "metadata": {},
     "output_type": "execute_result"
    }
   ],
   "source": [
    "X.head()"
   ]
  },
  {
   "cell_type": "code",
   "execution_count": 65,
   "id": "044dcb53",
   "metadata": {},
   "outputs": [
    {
     "data": {
      "text/plain": [
       "0    1\n",
       "1    0\n",
       "2    1\n",
       "3    0\n",
       "4    0\n",
       "Name: Exited, dtype: int64"
      ]
     },
     "execution_count": 65,
     "metadata": {},
     "output_type": "execute_result"
    }
   ],
   "source": [
    "Y.head()"
   ]
  },
  {
   "cell_type": "code",
   "execution_count": 66,
   "id": "2d96dfd4",
   "metadata": {},
   "outputs": [],
   "source": [
    "geography=pd.get_dummies(X['Geography'],drop_first=True)\n",
    "gender=pd.get_dummies(X['Gender'],drop_first=True)"
   ]
  },
  {
   "cell_type": "code",
   "execution_count": 67,
   "id": "13eac451",
   "metadata": {},
   "outputs": [],
   "source": [
    "X=X.drop(['Geography','Gender'],axis=1)"
   ]
  },
  {
   "cell_type": "code",
   "execution_count": 68,
   "id": "59b63e14",
   "metadata": {},
   "outputs": [],
   "source": [
    "X=pd.concat([X,geography,gender],axis=1)"
   ]
  },
  {
   "cell_type": "code",
   "execution_count": 69,
   "id": "86c717f4",
   "metadata": {},
   "outputs": [
    {
     "data": {
      "text/html": [
       "<div>\n",
       "<style scoped>\n",
       "    .dataframe tbody tr th:only-of-type {\n",
       "        vertical-align: middle;\n",
       "    }\n",
       "\n",
       "    .dataframe tbody tr th {\n",
       "        vertical-align: top;\n",
       "    }\n",
       "\n",
       "    .dataframe thead th {\n",
       "        text-align: right;\n",
       "    }\n",
       "</style>\n",
       "<table border=\"1\" class=\"dataframe\">\n",
       "  <thead>\n",
       "    <tr style=\"text-align: right;\">\n",
       "      <th></th>\n",
       "      <th>CreditScore</th>\n",
       "      <th>Age</th>\n",
       "      <th>Tenure</th>\n",
       "      <th>Balance</th>\n",
       "      <th>NumOfProducts</th>\n",
       "      <th>HasCrCard</th>\n",
       "      <th>IsActiveMember</th>\n",
       "      <th>EstimatedSalary</th>\n",
       "      <th>Germany</th>\n",
       "      <th>Spain</th>\n",
       "      <th>Male</th>\n",
       "    </tr>\n",
       "  </thead>\n",
       "  <tbody>\n",
       "    <tr>\n",
       "      <th>0</th>\n",
       "      <td>619</td>\n",
       "      <td>42</td>\n",
       "      <td>2</td>\n",
       "      <td>0.00</td>\n",
       "      <td>1</td>\n",
       "      <td>1</td>\n",
       "      <td>1</td>\n",
       "      <td>101348.88</td>\n",
       "      <td>0</td>\n",
       "      <td>0</td>\n",
       "      <td>0</td>\n",
       "    </tr>\n",
       "    <tr>\n",
       "      <th>1</th>\n",
       "      <td>608</td>\n",
       "      <td>41</td>\n",
       "      <td>1</td>\n",
       "      <td>83807.86</td>\n",
       "      <td>1</td>\n",
       "      <td>0</td>\n",
       "      <td>1</td>\n",
       "      <td>112542.58</td>\n",
       "      <td>0</td>\n",
       "      <td>1</td>\n",
       "      <td>0</td>\n",
       "    </tr>\n",
       "    <tr>\n",
       "      <th>2</th>\n",
       "      <td>502</td>\n",
       "      <td>42</td>\n",
       "      <td>8</td>\n",
       "      <td>159660.80</td>\n",
       "      <td>3</td>\n",
       "      <td>1</td>\n",
       "      <td>0</td>\n",
       "      <td>113931.57</td>\n",
       "      <td>0</td>\n",
       "      <td>0</td>\n",
       "      <td>0</td>\n",
       "    </tr>\n",
       "    <tr>\n",
       "      <th>3</th>\n",
       "      <td>699</td>\n",
       "      <td>39</td>\n",
       "      <td>1</td>\n",
       "      <td>0.00</td>\n",
       "      <td>2</td>\n",
       "      <td>0</td>\n",
       "      <td>0</td>\n",
       "      <td>93826.63</td>\n",
       "      <td>0</td>\n",
       "      <td>0</td>\n",
       "      <td>0</td>\n",
       "    </tr>\n",
       "    <tr>\n",
       "      <th>4</th>\n",
       "      <td>850</td>\n",
       "      <td>43</td>\n",
       "      <td>2</td>\n",
       "      <td>125510.82</td>\n",
       "      <td>1</td>\n",
       "      <td>1</td>\n",
       "      <td>1</td>\n",
       "      <td>79084.10</td>\n",
       "      <td>0</td>\n",
       "      <td>1</td>\n",
       "      <td>0</td>\n",
       "    </tr>\n",
       "  </tbody>\n",
       "</table>\n",
       "</div>"
      ],
      "text/plain": [
       "   CreditScore  Age  Tenure    Balance  NumOfProducts  HasCrCard  \\\n",
       "0          619   42       2       0.00              1          1   \n",
       "1          608   41       1   83807.86              1          0   \n",
       "2          502   42       8  159660.80              3          1   \n",
       "3          699   39       1       0.00              2          0   \n",
       "4          850   43       2  125510.82              1          1   \n",
       "\n",
       "   IsActiveMember  EstimatedSalary  Germany  Spain  Male  \n",
       "0               1        101348.88        0      0     0  \n",
       "1               1        112542.58        0      1     0  \n",
       "2               0        113931.57        0      0     0  \n",
       "3               0         93826.63        0      0     0  \n",
       "4               1         79084.10        0      1     0  "
      ]
     },
     "execution_count": 69,
     "metadata": {},
     "output_type": "execute_result"
    }
   ],
   "source": [
    "X.head()"
   ]
  },
  {
   "cell_type": "code",
   "execution_count": 70,
   "id": "21667477",
   "metadata": {},
   "outputs": [],
   "source": [
    "from sklearn.model_selection import train_test_split"
   ]
  },
  {
   "cell_type": "code",
   "execution_count": 71,
   "id": "6a42f8a2",
   "metadata": {},
   "outputs": [],
   "source": [
    "X_train,X_test,Y_train,Y_test=train_test_split(X,Y,test_size=0.2,random_state=0)"
   ]
  },
  {
   "cell_type": "code",
   "execution_count": 72,
   "id": "2f5b5182",
   "metadata": {},
   "outputs": [],
   "source": [
    "#feature scaling\n",
    "\n",
    "from sklearn.preprocessing import StandardScaler\n",
    "sc=StandardScaler()\n",
    "X_train=sc.fit_transform(X_train)\n",
    "X_test=sc.transform(X_test)"
   ]
  },
  {
   "cell_type": "code",
   "execution_count": 73,
   "id": "3c507058",
   "metadata": {},
   "outputs": [
    {
     "data": {
      "text/plain": [
       "array([[ 0.16958176, -0.46460796,  0.00666099, ..., -0.5698444 ,\n",
       "         1.74309049, -1.09168714],\n",
       "       [-2.30455945,  0.30102557, -1.37744033, ...,  1.75486502,\n",
       "        -0.57369368,  0.91601335],\n",
       "       [-1.19119591, -0.94312892, -1.031415  , ..., -0.5698444 ,\n",
       "        -0.57369368, -1.09168714],\n",
       "       ...,\n",
       "       [ 0.9015152 , -0.36890377,  0.00666099, ..., -0.5698444 ,\n",
       "        -0.57369368,  0.91601335],\n",
       "       [-0.62420521, -0.08179119,  1.39076231, ..., -0.5698444 ,\n",
       "         1.74309049, -1.09168714],\n",
       "       [-0.28401079,  0.87525072, -1.37744033, ...,  1.75486502,\n",
       "        -0.57369368, -1.09168714]])"
      ]
     },
     "execution_count": 73,
     "metadata": {},
     "output_type": "execute_result"
    }
   ],
   "source": [
    "X_train"
   ]
  },
  {
   "cell_type": "code",
   "execution_count": 74,
   "id": "d507280b",
   "metadata": {},
   "outputs": [
    {
     "data": {
      "text/plain": [
       "(8000, 11)"
      ]
     },
     "execution_count": 74,
     "metadata": {},
     "output_type": "execute_result"
    }
   ],
   "source": [
    "X_train.shape"
   ]
  },
  {
   "cell_type": "code",
   "execution_count": 75,
   "id": "b5850348",
   "metadata": {},
   "outputs": [],
   "source": [
    "#ANN model"
   ]
  },
  {
   "cell_type": "code",
   "execution_count": 76,
   "id": "1932831e",
   "metadata": {},
   "outputs": [],
   "source": [
    "from tensorflow.keras.models import Sequential\n",
    "from tensorflow.keras.layers import Dense\n",
    "from tensorflow.keras.layers import LeakyReLU,PReLU,ELU,ReLU\n",
    "from tensorflow.keras.layers import Dropout"
   ]
  },
  {
   "cell_type": "code",
   "execution_count": 77,
   "id": "b5ea673c",
   "metadata": {},
   "outputs": [],
   "source": [
    "#initialize ANN\n",
    "classifier=Sequential()"
   ]
  },
  {
   "cell_type": "code",
   "execution_count": 78,
   "id": "01e463da",
   "metadata": {},
   "outputs": [],
   "source": [
    "#adding input layers\n",
    "classifier.add(Dense(units=11,activation='relu'))"
   ]
  },
  {
   "cell_type": "code",
   "execution_count": 79,
   "id": "1f7bfcdc",
   "metadata": {},
   "outputs": [],
   "source": [
    "#adding first hidden layer\n",
    "classifier.add(Dense(units=7,activation='relu'))\n",
    "classifier.add(Dropout(0.2))"
   ]
  },
  {
   "cell_type": "code",
   "execution_count": 80,
   "id": "025ae7e7",
   "metadata": {},
   "outputs": [],
   "source": [
    "#adding second hidden layer\n",
    "classifier.add(Dense(units=6,activation='relu'))\n",
    "classifier.add(Dropout(0.3))"
   ]
  },
  {
   "cell_type": "code",
   "execution_count": 81,
   "id": "d24b49e6",
   "metadata": {},
   "outputs": [],
   "source": [
    "#adding the output layer\n",
    "classifier.add(Dense(1,activation='sigmoid'))"
   ]
  },
  {
   "cell_type": "code",
   "execution_count": 82,
   "id": "23fb5ee5",
   "metadata": {},
   "outputs": [],
   "source": [
    "classifier.compile(optimizer='adam',loss='binary_crossentropy',metrics=['accuracy'])"
   ]
  },
  {
   "cell_type": "code",
   "execution_count": 83,
   "id": "15e097ae",
   "metadata": {},
   "outputs": [],
   "source": [
    "import tensorflow\n",
    "opt=tensorflow.keras.optimizers.Adam(learning_rate=0.01)"
   ]
  },
  {
   "cell_type": "code",
   "execution_count": 84,
   "id": "35dde3c7",
   "metadata": {},
   "outputs": [],
   "source": [
    "#early stopping\n",
    "import tensorflow as tf\n",
    "early_stopping=tf.keras.callbacks.EarlyStopping(\n",
    "    monitor=\"val_loss\",\n",
    "    min_delta=0.0001,\n",
    "    patience=20,\n",
    "    verbose=1,\n",
    "    mode=\"auto\",\n",
    "    baseline=None,\n",
    "    restore_best_weights=False,\n",
    ")"
   ]
  },
  {
   "cell_type": "code",
   "execution_count": 85,
   "id": "3ff837c9",
   "metadata": {},
   "outputs": [
    {
     "name": "stdout",
     "output_type": "stream",
     "text": [
      "Epoch 1/1000\n",
      "536/536 [==============================] - 4s 4ms/step - loss: 0.6296 - accuracy: 0.6992 - val_loss: 0.5111 - val_accuracy: 0.7955\n",
      "Epoch 2/1000\n",
      "536/536 [==============================] - 2s 4ms/step - loss: 0.5097 - accuracy: 0.7970 - val_loss: 0.4639 - val_accuracy: 0.8008\n",
      "Epoch 3/1000\n",
      "536/536 [==============================] - 2s 3ms/step - loss: 0.4750 - accuracy: 0.8048 - val_loss: 0.4432 - val_accuracy: 0.8103\n",
      "Epoch 4/1000\n",
      "536/536 [==============================] - 2s 3ms/step - loss: 0.4536 - accuracy: 0.8192 - val_loss: 0.4320 - val_accuracy: 0.8164\n",
      "Epoch 5/1000\n",
      "536/536 [==============================] - 2s 4ms/step - loss: 0.4404 - accuracy: 0.8220 - val_loss: 0.4175 - val_accuracy: 0.8220\n",
      "Epoch 6/1000\n",
      "536/536 [==============================] - 2s 4ms/step - loss: 0.4246 - accuracy: 0.8287 - val_loss: 0.4036 - val_accuracy: 0.8300\n",
      "Epoch 7/1000\n",
      "536/536 [==============================] - 2s 4ms/step - loss: 0.4086 - accuracy: 0.8369 - val_loss: 0.3941 - val_accuracy: 0.8398\n",
      "Epoch 8/1000\n",
      "536/536 [==============================] - 2s 4ms/step - loss: 0.4095 - accuracy: 0.8352 - val_loss: 0.3887 - val_accuracy: 0.8413\n",
      "Epoch 9/1000\n",
      "536/536 [==============================] - 2s 4ms/step - loss: 0.4025 - accuracy: 0.8350 - val_loss: 0.3831 - val_accuracy: 0.8413\n",
      "Epoch 10/1000\n",
      "536/536 [==============================] - 2s 3ms/step - loss: 0.4003 - accuracy: 0.8377 - val_loss: 0.3796 - val_accuracy: 0.8448\n",
      "Epoch 11/1000\n",
      "536/536 [==============================] - 2s 4ms/step - loss: 0.3818 - accuracy: 0.8419 - val_loss: 0.3776 - val_accuracy: 0.8448\n",
      "Epoch 12/1000\n",
      "536/536 [==============================] - 2s 3ms/step - loss: 0.3845 - accuracy: 0.8429 - val_loss: 0.3756 - val_accuracy: 0.8432\n",
      "Epoch 13/1000\n",
      "536/536 [==============================] - 2s 4ms/step - loss: 0.3830 - accuracy: 0.8418 - val_loss: 0.3730 - val_accuracy: 0.8459\n",
      "Epoch 14/1000\n",
      "536/536 [==============================] - 2s 4ms/step - loss: 0.3729 - accuracy: 0.8451 - val_loss: 0.3716 - val_accuracy: 0.8459\n",
      "Epoch 15/1000\n",
      "536/536 [==============================] - 2s 3ms/step - loss: 0.3751 - accuracy: 0.8457 - val_loss: 0.3664 - val_accuracy: 0.8474\n",
      "Epoch 16/1000\n",
      "536/536 [==============================] - 2s 4ms/step - loss: 0.3729 - accuracy: 0.8500 - val_loss: 0.3656 - val_accuracy: 0.8497\n",
      "Epoch 17/1000\n",
      "536/536 [==============================] - 2s 4ms/step - loss: 0.3727 - accuracy: 0.8481 - val_loss: 0.3679 - val_accuracy: 0.8478\n",
      "Epoch 18/1000\n",
      "536/536 [==============================] - 2s 4ms/step - loss: 0.3682 - accuracy: 0.8468 - val_loss: 0.3667 - val_accuracy: 0.8482\n",
      "Epoch 19/1000\n",
      "536/536 [==============================] - 2s 4ms/step - loss: 0.3748 - accuracy: 0.8449 - val_loss: 0.3642 - val_accuracy: 0.8470\n",
      "Epoch 20/1000\n",
      "536/536 [==============================] - 2s 4ms/step - loss: 0.3716 - accuracy: 0.8475 - val_loss: 0.3644 - val_accuracy: 0.8489\n",
      "Epoch 21/1000\n",
      "536/536 [==============================] - 2s 3ms/step - loss: 0.3713 - accuracy: 0.8449 - val_loss: 0.3641 - val_accuracy: 0.8504\n",
      "Epoch 22/1000\n",
      "536/536 [==============================] - 2s 4ms/step - loss: 0.3666 - accuracy: 0.8505 - val_loss: 0.3669 - val_accuracy: 0.8482\n",
      "Epoch 23/1000\n",
      "536/536 [==============================] - 2s 4ms/step - loss: 0.3724 - accuracy: 0.8462 - val_loss: 0.3689 - val_accuracy: 0.8466\n",
      "Epoch 24/1000\n",
      "536/536 [==============================] - 2s 4ms/step - loss: 0.3646 - accuracy: 0.8503 - val_loss: 0.3642 - val_accuracy: 0.8508\n",
      "Epoch 25/1000\n",
      "536/536 [==============================] - 2s 4ms/step - loss: 0.3683 - accuracy: 0.8459 - val_loss: 0.3606 - val_accuracy: 0.8516\n",
      "Epoch 26/1000\n",
      "536/536 [==============================] - 2s 3ms/step - loss: 0.3661 - accuracy: 0.8496 - val_loss: 0.3648 - val_accuracy: 0.8497\n",
      "Epoch 27/1000\n",
      "536/536 [==============================] - 2s 4ms/step - loss: 0.3710 - accuracy: 0.8461 - val_loss: 0.3656 - val_accuracy: 0.8493\n",
      "Epoch 28/1000\n",
      "536/536 [==============================] - 2s 4ms/step - loss: 0.3655 - accuracy: 0.8455 - val_loss: 0.3605 - val_accuracy: 0.8538\n",
      "Epoch 29/1000\n",
      "536/536 [==============================] - 2s 3ms/step - loss: 0.3709 - accuracy: 0.8444 - val_loss: 0.3626 - val_accuracy: 0.8519\n",
      "Epoch 30/1000\n",
      "536/536 [==============================] - 2s 4ms/step - loss: 0.3637 - accuracy: 0.8481 - val_loss: 0.3601 - val_accuracy: 0.8535\n",
      "Epoch 31/1000\n",
      "536/536 [==============================] - 2s 3ms/step - loss: 0.3591 - accuracy: 0.8528 - val_loss: 0.3642 - val_accuracy: 0.8512\n",
      "Epoch 32/1000\n",
      "536/536 [==============================] - 2s 4ms/step - loss: 0.3605 - accuracy: 0.8507 - val_loss: 0.3629 - val_accuracy: 0.8501\n",
      "Epoch 33/1000\n",
      "536/536 [==============================] - 2s 3ms/step - loss: 0.3663 - accuracy: 0.8494 - val_loss: 0.3604 - val_accuracy: 0.8591\n",
      "Epoch 34/1000\n",
      "536/536 [==============================] - 2s 3ms/step - loss: 0.3624 - accuracy: 0.8502 - val_loss: 0.3664 - val_accuracy: 0.8523\n",
      "Epoch 35/1000\n",
      "536/536 [==============================] - 2s 3ms/step - loss: 0.3560 - accuracy: 0.8537 - val_loss: 0.3630 - val_accuracy: 0.8508\n",
      "Epoch 36/1000\n",
      "536/536 [==============================] - 2s 4ms/step - loss: 0.3633 - accuracy: 0.8503 - val_loss: 0.3623 - val_accuracy: 0.8501\n",
      "Epoch 37/1000\n",
      "536/536 [==============================] - 2s 3ms/step - loss: 0.3568 - accuracy: 0.8507 - val_loss: 0.3660 - val_accuracy: 0.8489\n",
      "Epoch 38/1000\n",
      "536/536 [==============================] - 2s 4ms/step - loss: 0.3624 - accuracy: 0.8507 - val_loss: 0.3679 - val_accuracy: 0.8451\n",
      "Epoch 39/1000\n",
      "536/536 [==============================] - 2s 4ms/step - loss: 0.3577 - accuracy: 0.8524 - val_loss: 0.3619 - val_accuracy: 0.8519\n",
      "Epoch 40/1000\n",
      "536/536 [==============================] - 2s 3ms/step - loss: 0.3558 - accuracy: 0.8543 - val_loss: 0.3685 - val_accuracy: 0.8497\n",
      "Epoch 41/1000\n",
      "536/536 [==============================] - 2s 4ms/step - loss: 0.3633 - accuracy: 0.8477 - val_loss: 0.3693 - val_accuracy: 0.8504\n",
      "Epoch 42/1000\n",
      "536/536 [==============================] - 2s 4ms/step - loss: 0.3607 - accuracy: 0.8505 - val_loss: 0.3630 - val_accuracy: 0.8523\n",
      "Epoch 43/1000\n",
      "536/536 [==============================] - 2s 4ms/step - loss: 0.3580 - accuracy: 0.8559 - val_loss: 0.3625 - val_accuracy: 0.8527\n",
      "Epoch 44/1000\n",
      "536/536 [==============================] - 2s 3ms/step - loss: 0.3610 - accuracy: 0.8505 - val_loss: 0.3591 - val_accuracy: 0.8531\n",
      "Epoch 45/1000\n",
      "536/536 [==============================] - 2s 3ms/step - loss: 0.3594 - accuracy: 0.8522 - val_loss: 0.3592 - val_accuracy: 0.8573\n",
      "Epoch 46/1000\n",
      "536/536 [==============================] - 2s 3ms/step - loss: 0.3651 - accuracy: 0.8530 - val_loss: 0.3611 - val_accuracy: 0.8519\n",
      "Epoch 47/1000\n",
      "536/536 [==============================] - 2s 4ms/step - loss: 0.3598 - accuracy: 0.8526 - val_loss: 0.3616 - val_accuracy: 0.8519\n",
      "Epoch 48/1000\n",
      "536/536 [==============================] - 2s 3ms/step - loss: 0.3576 - accuracy: 0.8515 - val_loss: 0.3615 - val_accuracy: 0.8531\n",
      "Epoch 49/1000\n",
      "536/536 [==============================] - 2s 3ms/step - loss: 0.3547 - accuracy: 0.8556 - val_loss: 0.3637 - val_accuracy: 0.8470\n",
      "Epoch 50/1000\n",
      "536/536 [==============================] - 2s 3ms/step - loss: 0.3597 - accuracy: 0.8492 - val_loss: 0.3606 - val_accuracy: 0.8535\n",
      "Epoch 51/1000\n",
      "536/536 [==============================] - 2s 3ms/step - loss: 0.3582 - accuracy: 0.8518 - val_loss: 0.3603 - val_accuracy: 0.8508\n",
      "Epoch 52/1000\n",
      "536/536 [==============================] - 2s 3ms/step - loss: 0.3521 - accuracy: 0.8567 - val_loss: 0.3629 - val_accuracy: 0.8523\n",
      "Epoch 53/1000\n",
      "536/536 [==============================] - 2s 3ms/step - loss: 0.3541 - accuracy: 0.8531 - val_loss: 0.3637 - val_accuracy: 0.8535\n",
      "Epoch 54/1000\n",
      "536/536 [==============================] - 2s 3ms/step - loss: 0.3576 - accuracy: 0.8543 - val_loss: 0.3640 - val_accuracy: 0.8501\n",
      "Epoch 55/1000\n",
      "536/536 [==============================] - 2s 3ms/step - loss: 0.3541 - accuracy: 0.8548 - val_loss: 0.3646 - val_accuracy: 0.8516\n",
      "Epoch 56/1000\n",
      "536/536 [==============================] - 2s 4ms/step - loss: 0.3575 - accuracy: 0.8545 - val_loss: 0.3630 - val_accuracy: 0.8527\n",
      "Epoch 57/1000\n"
     ]
    },
    {
     "name": "stdout",
     "output_type": "stream",
     "text": [
      "536/536 [==============================] - 2s 3ms/step - loss: 0.3557 - accuracy: 0.8537 - val_loss: 0.3643 - val_accuracy: 0.8482\n",
      "Epoch 58/1000\n",
      "536/536 [==============================] - 2s 3ms/step - loss: 0.3518 - accuracy: 0.8541 - val_loss: 0.3650 - val_accuracy: 0.8497\n",
      "Epoch 59/1000\n",
      "536/536 [==============================] - 2s 3ms/step - loss: 0.3551 - accuracy: 0.8571 - val_loss: 0.3644 - val_accuracy: 0.8470\n",
      "Epoch 60/1000\n",
      "536/536 [==============================] - 2s 4ms/step - loss: 0.3561 - accuracy: 0.8554 - val_loss: 0.3644 - val_accuracy: 0.8493\n",
      "Epoch 61/1000\n",
      "536/536 [==============================] - 2s 4ms/step - loss: 0.3492 - accuracy: 0.8565 - val_loss: 0.3619 - val_accuracy: 0.8504\n",
      "Epoch 62/1000\n",
      "536/536 [==============================] - 2s 3ms/step - loss: 0.3568 - accuracy: 0.8513 - val_loss: 0.3639 - val_accuracy: 0.8504\n",
      "Epoch 63/1000\n",
      "536/536 [==============================] - 2s 3ms/step - loss: 0.3547 - accuracy: 0.8552 - val_loss: 0.3624 - val_accuracy: 0.8512\n",
      "Epoch 64/1000\n",
      "536/536 [==============================] - 2s 4ms/step - loss: 0.3539 - accuracy: 0.8531 - val_loss: 0.3612 - val_accuracy: 0.8527\n",
      "Epoch 64: early stopping\n"
     ]
    }
   ],
   "source": [
    "model_history=classifier.fit(X_train,Y_train,validation_split=0.33,batch_size=10,epochs=1000,callbacks=early_stopping)"
   ]
  },
  {
   "cell_type": "code",
   "execution_count": 86,
   "id": "b632827f",
   "metadata": {},
   "outputs": [
    {
     "data": {
      "text/plain": [
       "dict_keys(['loss', 'accuracy', 'val_loss', 'val_accuracy'])"
      ]
     },
     "execution_count": 86,
     "metadata": {},
     "output_type": "execute_result"
    }
   ],
   "source": [
    "model_history.history.keys()"
   ]
  },
  {
   "cell_type": "code",
   "execution_count": 87,
   "id": "21f52140",
   "metadata": {},
   "outputs": [
    {
     "data": {
      "image/png": "[encoded data removed]",
      "text/plain": [
       "<Figure size 432x288 with 1 Axes>"
      ]
     },
     "metadata": {
      "needs_background": "light"
     },
     "output_type": "display_data"
    }
   ],
   "source": [
    "#summarize history for accuracy\n",
    "plt.plot(model_history.history['accuracy'])\n",
    "plt.plot(model_history.history['val_accuracy'])\n",
    "plt.title('model accuracy')\n",
    "plt.ylabel('accuracy')\n",
    "plt.xlabel('epoch')\n",
    "plt.legend(['train','test'],loc='upper left')\n",
    "plt.show()"
   ]
  },
  {
   "cell_type": "code",
   "execution_count": 88,
   "id": "24527634",
   "metadata": {},
   "outputs": [
    {
     "name": "stdout",
     "output_type": "stream",
     "text": [
      "63/63 [==============================] - 0s 2ms/step\n"
     ]
    }
   ],
   "source": [
    "#making predictions and evaluating the model\n",
    "#predicting the test set results\n",
    "y_pred=classifier.predict(X_test)\n",
    "y_pred=(y_pred>=0.5)"
   ]
  },
  {
   "cell_type": "code",
   "execution_count": 89,
   "id": "9b3f7db3",
   "metadata": {},
   "outputs": [
    {
     "data": {
      "text/plain": [
       "array([[1549,   46],\n",
       "       [ 239,  166]], dtype=int64)"
      ]
     },
     "execution_count": 89,
     "metadata": {},
     "output_type": "execute_result"
    }
   ],
   "source": [
    "#make the confusion matrix\n",
    "from sklearn.metrics import confusion_matrix\n",
    "cm=confusion_matrix(Y_test,y_pred)\n",
    "cm"
   ]
  },
  {
   "cell_type": "code",
   "execution_count": 90,
   "id": "bf1b90d9",
   "metadata": {},
   "outputs": [
    {
     "data": {
      "text/plain": [
       "0.8575"
      ]
     },
     "execution_count": 90,
     "metadata": {},
     "output_type": "execute_result"
    }
   ],
   "source": [
    "#calculate accuracy\n",
    "from sklearn.metrics import accuracy_score\n",
    "score=accuracy_score(y_pred,Y_test)\n",
    "score"
   ]
  },
  {
   "cell_type": "code",
   "execution_count": 91,
   "id": "d58fb867",
   "metadata": {},
   "outputs": [
    {
     "data": {
      "text/plain": [
       "[array([[ 0.30938557, -0.01315777,  0.01974799, -0.27774692, -0.18649872,\n",
       "         -0.24210644, -0.16346374, -0.02295346,  0.07060796, -0.04706221,\n",
       "         -0.02805746],\n",
       "        [-0.834327  ,  0.58836234, -0.63217485,  0.9439324 , -0.7492671 ,\n",
       "          0.18628693,  0.2614147 , -0.6632396 ,  0.17064644,  0.21450464,\n",
       "         -0.79870296],\n",
       "        [-0.07886148,  0.05232575,  0.27650395,  0.23617661,  0.43518233,\n",
       "          0.1186201 ,  0.22206149,  0.06875832,  0.23863055, -0.04291377,\n",
       "          0.07407601],\n",
       "        [ 0.0908364 ,  0.3923537 ,  0.57186717,  0.0863848 ,  0.36454248,\n",
       "          0.09713718, -0.24803482, -0.0042007 , -0.15272515,  0.78648454,\n",
       "          0.41187435],\n",
       "        [-0.284711  , -0.3063845 ,  0.06240058,  0.23683038, -0.17091869,\n",
       "         -0.5924708 , -1.4775052 ,  0.0036483 ,  0.90439266,  0.98907626,\n",
       "          0.09019458],\n",
       "        [ 0.37746552,  0.01664497,  0.21203324,  0.3499916 , -0.04152579,\n",
       "          0.41708675, -0.03109732, -0.22793256,  0.01930353,  0.06434634,\n",
       "          0.22913782],\n",
       "        [ 0.2807289 ,  0.10984104,  0.13131568,  0.45769715,  0.01720441,\n",
       "         -0.30260944, -0.4031302 , -0.29487208, -0.07247735, -0.39035153,\n",
       "         -0.4391931 ],\n",
       "        [ 0.4779224 ,  0.16535589, -0.30980322, -0.06340054, -0.24266553,\n",
       "         -0.5219347 ,  0.10104399, -0.12943132,  0.0059443 , -0.05777162,\n",
       "         -0.06876477],\n",
       "        [-0.06970247, -0.03532836, -0.1362172 ,  0.10937566, -0.22925292,\n",
       "          0.27228916,  0.23602688, -0.5655495 , -0.05345783, -0.27613106,\n",
       "          0.02688245],\n",
       "        [-0.08775876, -0.421533  , -0.05842728,  0.06313858,  0.18882874,\n",
       "          0.3555383 , -0.12766156, -0.76233655, -0.11161172, -0.03100699,\n",
       "         -0.0057144 ],\n",
       "        [ 0.20281069,  0.01097824,  0.07314697,  0.09881288,  0.40191397,\n",
       "          0.02414705,  0.05746194,  0.28076443,  0.16952713, -0.15258685,\n",
       "         -0.45648375]], dtype=float32),\n",
       " array([ 0.16145372, -0.0531834 , -0.14102419, -0.38110253,  0.545427  ,\n",
       "        -0.24786246,  0.47534502,  0.16904446, -0.2727999 , -0.10362156,\n",
       "         0.36217785], dtype=float32),\n",
       " array([[-0.18853866,  0.36313644, -0.9339743 ,  0.31872794,  0.04004264,\n",
       "          0.141109  ,  0.16157289],\n",
       "        [ 0.21204306,  0.05797281, -0.10216924, -0.17224357, -0.12221312,\n",
       "         -0.6508294 ,  0.4302018 ],\n",
       "        [ 0.10902712,  0.12863341,  0.5310865 , -0.08237606, -0.16135117,\n",
       "         -0.01488152, -0.554196  ],\n",
       "        [-0.5220489 ,  0.4826829 , -0.37473467, -0.13327232,  0.0819524 ,\n",
       "          0.16647093, -0.23999438],\n",
       "        [-0.38401994,  0.19689381, -0.7451769 ,  0.24919644,  0.3390905 ,\n",
       "         -0.01612557,  0.11221857],\n",
       "        [ 0.27734962, -0.2161621 ,  0.14245114,  0.26980072, -0.46849898,\n",
       "         -0.23146552,  0.18565835],\n",
       "        [ 0.43456233, -0.2741465 ,  0.4627678 , -0.72630984, -0.27783912,\n",
       "         -0.23584822, -0.8385375 ],\n",
       "        [-0.5540876 ,  0.4558676 , -0.4725694 ,  0.47195354,  0.00602078,\n",
       "         -0.14338614,  0.03590094],\n",
       "        [ 0.653882  , -0.53116125,  0.21357442, -0.06975695,  0.5175395 ,\n",
       "          0.13826321,  0.13421331],\n",
       "        [ 0.44195166, -0.1783169 ,  0.63909125, -0.45140275, -1.0754776 ,\n",
       "          0.4714245 , -0.29073492],\n",
       "        [-0.42993337,  0.21848392, -0.78602016, -0.2937508 , -0.04148474,\n",
       "         -0.05497353,  0.3597042 ]], dtype=float32),\n",
       " array([-0.15412511, -0.22208433, -0.2302483 ,  0.6709031 ,  0.38580933,\n",
       "        -0.7077692 ,  0.33546138], dtype=float32),\n",
       " array([[ 0.53933185,  0.3949123 , -0.33412173,  0.3277557 , -0.20947635,\n",
       "         -0.95507824],\n",
       "        [-0.62951046, -0.56629366, -0.72639394, -1.0347673 ,  0.13980657,\n",
       "          0.01422951],\n",
       "        [ 0.5577188 ,  0.42512232,  0.9140315 ,  0.3581537 , -0.700395  ,\n",
       "         -1.1701767 ],\n",
       "        [-0.94457936, -0.7937794 , -0.7265137 , -0.8155274 , -0.4810832 ,\n",
       "          0.39630973],\n",
       "        [-0.6386345 , -1.1629766 , -0.45441493, -1.0032905 , -0.471173  ,\n",
       "          1.0114205 ],\n",
       "        [ 0.9134311 ,  0.76315373,  0.7321384 ,  0.67647696, -0.29100767,\n",
       "         -0.80274427],\n",
       "        [-1.0023009 , -0.16200948, -0.5932556 , -1.0224991 ,  0.07810213,\n",
       "          0.43698525]], dtype=float32),\n",
       " array([ 0.2999353 ,  0.37210318,  0.20746975,  0.21229596, -0.5609534 ,\n",
       "        -0.01064195], dtype=float32),\n",
       " array([[ 0.6923536 ],\n",
       "        [ 0.86722344],\n",
       "        [ 1.3411099 ],\n",
       "        [ 1.057069  ],\n",
       "        [ 0.20251371],\n",
       "        [-0.8796179 ]], dtype=float32),\n",
       " array([-1.9784194], dtype=float32)]"
      ]
     },
     "execution_count": 91,
     "metadata": {},
     "output_type": "execute_result"
    }
   ],
   "source": [
    "#get the weights\n",
    "classifier.get_weights()"
   ]
  },
  {
   "cell_type": "code",
   "execution_count": null,
   "id": "ca1b4735",
   "metadata": {},
   "outputs": [],
   "source": []
  },
  {
   "cell_type": "code",
   "execution_count": null,
   "id": "45f5a893",
   "metadata": {},
   "outputs": [],
   "source": []
  }
 ],
 "metadata": {
  "kernelspec": {
   "display_name": "Python 3 (ipykernel)",
   "language": "python",
   "name": "python3"
  },
  "language_info": {
   "codemirror_mode": {
    "name": "ipython",
    "version": 3
   },
   "file_extension": ".py",
   "mimetype": "text/x-python",
   "name": "python",
   "nbconvert_exporter": "python",
   "pygments_lexer": "ipython3",
   "version": "3.9.12"
  }
 },
 "nbformat": 4,
 "nbformat_minor": 5
}
